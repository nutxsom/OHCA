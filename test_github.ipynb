{
 "cells": [
  {
   "cell_type": "code",
   "execution_count": 1,
   "metadata": {
    "vscode": {
     "languageId": "r"
    }
   },
   "outputs": [
    {
     "data": {
      "text/plain": [
       "Given input C-statistic = 0.8  & prevalence = 0.1  \n",
       "Cox-Snell R-sq = 0.1108  \n",
       " \n",
       "NB: Assuming 0.05 acceptable difference in apparent & adjusted R-squared \n",
       "NB: Assuming 0.05 margin of error in estimation of intercept \n",
       "NB: Events per Predictor Parameter (EPP) assumes prevalence = 0.1  \n",
       " \n",
       "           Samp_size Shrinkage Parameter CS_Rsq Max_Rsq Nag_Rsq  EPP\n",
       "Criteria 1       914     0.900        12 0.1108   0.478   0.232 7.62\n",
       "Criteria 2       468     0.823        12 0.1108   0.478   0.232 3.90\n",
       "Criteria 3       139     0.900        12 0.1108   0.478   0.232 1.16\n",
       "Final            914     0.900        12 0.1108   0.478   0.232 7.62\n",
       " \n",
       " Minimum sample size required for new model development based on user inputs = 914, \n",
       " with 92 events (assuming an outcome prevalence = 0.1) and an EPP = 7.62 \n",
       " \n",
       " "
      ]
     },
     "metadata": {},
     "output_type": "display_data"
    }
   ],
   "source": [
    "# Install pmsampsize if not already installed\n",
    "if (!requireNamespace(\"pmsampsize\", quietly = TRUE)) {\n",
    "  install.packages(\"pmsampsize\")\n",
    "}\n",
    "\n",
    "# Load the package\n",
    "library(pmsampsize)\n",
    "\n",
    "# Calculate sample size\n",
    "pmsampsize(\n",
    "  type = \"b\",       # Binary outcome\n",
    "  cstat = 0.8,      # AUROC (C-statistic)\n",
    "  parameters = 12,  # Maximum number of predictors\n",
    "  prevalence = 0.10 # Prevalence of the outcome\n",
    ")\n",
    "\n",
    "\n"
   ]
  }
 ],
 "metadata": {
  "kernelspec": {
   "display_name": "R",
   "language": "R",
   "name": "ir"
  },
  "language_info": {
   "codemirror_mode": "r",
   "file_extension": ".r",
   "mimetype": "text/x-r-source",
   "name": "R",
   "pygments_lexer": "r",
   "version": "4.4.3"
  }
 },
 "nbformat": 4,
 "nbformat_minor": 2
}
